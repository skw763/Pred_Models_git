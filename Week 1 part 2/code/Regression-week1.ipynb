{
 "cells": [
  {
   "cell_type": "markdown",
   "metadata": {
    "collapsed": false
   },
   "source": [
    "# Receipes for several Regression implementations and Regularization"
   ]
  },
  {
   "cell_type": "code",
   "execution_count": 7,
   "metadata": {
    "collapsed": false
   },
   "outputs": [],
   "source": [
    "#Load Packages\n",
    "import numpy as np\n",
    "import matplotlib.pyplot as plt\n",
    "import pandas as pd\n",
    "from sklearn.metrics import mean_squared_error\n",
    "%matplotlib inline "
   ]
  },
  {
   "cell_type": "code",
   "execution_count": 8,
   "metadata": {
    "collapsed": false
   },
   "outputs": [
    {
     "data": {
      "text/plain": [
       "'/Users/mpgartland/Documents/Courses/Predictive Models/Pred_Models_git/Week 1 part 2'"
      ]
     },
     "execution_count": 8,
     "metadata": {},
     "output_type": "execute_result"
    }
   ],
   "source": [
    "%pwd"
   ]
  },
  {
   "cell_type": "code",
   "execution_count": 9,
   "metadata": {
    "collapsed": false
   },
   "outputs": [
    {
     "name": "stdout",
     "output_type": "stream",
     "text": [
      "/Users/mpgartland/Documents/Courses/Predictive Models/Pred_Models_git/Week 1 part 2\n"
     ]
    }
   ],
   "source": [
    "cd '/Users/mpgartland/Documents/Courses/Predictive Models/Pred_Models_git/Week 1 part 2/'"
   ]
  },
  {
   "cell_type": "code",
   "execution_count": 10,
   "metadata": {
    "collapsed": false
   },
   "outputs": [
    {
     "data": {
      "text/html": [
       "<div>\n",
       "<table border=\"1\" class=\"dataframe\">\n",
       "  <thead>\n",
       "    <tr style=\"text-align: right;\">\n",
       "      <th></th>\n",
       "      <th>CRIM</th>\n",
       "      <th>ZN</th>\n",
       "      <th>INDUS</th>\n",
       "      <th>CHAS</th>\n",
       "      <th>NOX</th>\n",
       "      <th>RM</th>\n",
       "      <th>AGE</th>\n",
       "      <th>DIS</th>\n",
       "      <th>RAD</th>\n",
       "      <th>TAX</th>\n",
       "      <th>PTRATIO</th>\n",
       "      <th>B</th>\n",
       "      <th>LSTAT</th>\n",
       "      <th>MEDV</th>\n",
       "    </tr>\n",
       "  </thead>\n",
       "  <tbody>\n",
       "    <tr>\n",
       "      <th>0</th>\n",
       "      <td>0.00632</td>\n",
       "      <td>18.0</td>\n",
       "      <td>2.31</td>\n",
       "      <td>0</td>\n",
       "      <td>0.538</td>\n",
       "      <td>6.575</td>\n",
       "      <td>65.2</td>\n",
       "      <td>4.0900</td>\n",
       "      <td>1</td>\n",
       "      <td>296</td>\n",
       "      <td>15.3</td>\n",
       "      <td>396.90</td>\n",
       "      <td>4.98</td>\n",
       "      <td>24.0</td>\n",
       "    </tr>\n",
       "    <tr>\n",
       "      <th>1</th>\n",
       "      <td>0.02731</td>\n",
       "      <td>0.0</td>\n",
       "      <td>7.07</td>\n",
       "      <td>0</td>\n",
       "      <td>0.469</td>\n",
       "      <td>6.421</td>\n",
       "      <td>78.9</td>\n",
       "      <td>4.9671</td>\n",
       "      <td>2</td>\n",
       "      <td>242</td>\n",
       "      <td>17.8</td>\n",
       "      <td>396.90</td>\n",
       "      <td>9.14</td>\n",
       "      <td>21.6</td>\n",
       "    </tr>\n",
       "    <tr>\n",
       "      <th>2</th>\n",
       "      <td>0.02729</td>\n",
       "      <td>0.0</td>\n",
       "      <td>7.07</td>\n",
       "      <td>0</td>\n",
       "      <td>0.469</td>\n",
       "      <td>7.185</td>\n",
       "      <td>61.1</td>\n",
       "      <td>4.9671</td>\n",
       "      <td>2</td>\n",
       "      <td>242</td>\n",
       "      <td>17.8</td>\n",
       "      <td>392.83</td>\n",
       "      <td>4.03</td>\n",
       "      <td>34.7</td>\n",
       "    </tr>\n",
       "    <tr>\n",
       "      <th>3</th>\n",
       "      <td>0.03237</td>\n",
       "      <td>0.0</td>\n",
       "      <td>2.18</td>\n",
       "      <td>0</td>\n",
       "      <td>0.458</td>\n",
       "      <td>6.998</td>\n",
       "      <td>45.8</td>\n",
       "      <td>6.0622</td>\n",
       "      <td>3</td>\n",
       "      <td>222</td>\n",
       "      <td>18.7</td>\n",
       "      <td>394.63</td>\n",
       "      <td>2.94</td>\n",
       "      <td>33.4</td>\n",
       "    </tr>\n",
       "    <tr>\n",
       "      <th>4</th>\n",
       "      <td>0.06905</td>\n",
       "      <td>0.0</td>\n",
       "      <td>2.18</td>\n",
       "      <td>0</td>\n",
       "      <td>0.458</td>\n",
       "      <td>7.147</td>\n",
       "      <td>54.2</td>\n",
       "      <td>6.0622</td>\n",
       "      <td>3</td>\n",
       "      <td>222</td>\n",
       "      <td>18.7</td>\n",
       "      <td>396.90</td>\n",
       "      <td>5.33</td>\n",
       "      <td>36.2</td>\n",
       "    </tr>\n",
       "  </tbody>\n",
       "</table>\n",
       "</div>"
      ],
      "text/plain": [
       "      CRIM    ZN  INDUS  CHAS    NOX     RM   AGE     DIS  RAD  TAX  PTRATIO  \\\n",
       "0  0.00632  18.0   2.31     0  0.538  6.575  65.2  4.0900    1  296     15.3   \n",
       "1  0.02731   0.0   7.07     0  0.469  6.421  78.9  4.9671    2  242     17.8   \n",
       "2  0.02729   0.0   7.07     0  0.469  7.185  61.1  4.9671    2  242     17.8   \n",
       "3  0.03237   0.0   2.18     0  0.458  6.998  45.8  6.0622    3  222     18.7   \n",
       "4  0.06905   0.0   2.18     0  0.458  7.147  54.2  6.0622    3  222     18.7   \n",
       "\n",
       "        B  LSTAT  MEDV  \n",
       "0  396.90   4.98  24.0  \n",
       "1  396.90   9.14  21.6  \n",
       "2  392.83   4.03  34.7  \n",
       "3  394.63   2.94  33.4  \n",
       "4  396.90   5.33  36.2  "
      ]
     },
     "execution_count": 10,
     "metadata": {},
     "output_type": "execute_result"
    }
   ],
   "source": [
    "#Load Data\n",
    "#load the Boston House datasets.\n",
    "#The diabetes dataset consists of 13 economic variables\n",
    "#measure on 506 houses, and an median value (MEDV) as the target:\n",
    "dataset = pd.read_csv(\"data/boston_house_prices.csv\", sep=\",\", header=1)\n",
    "dataset.head()"
   ]
  },
  {
   "cell_type": "code",
   "execution_count": 11,
   "metadata": {
    "collapsed": false
   },
   "outputs": [
    {
     "name": "stdout",
     "output_type": "stream",
     "text": [
      "(506,)\n",
      "(506, 13)\n"
     ]
    }
   ],
   "source": [
    "#In a imported data set, you would break the data into two objects dataname.features (your PV) and dataname.target (your target/DV)\n",
    "#There are a lot of ways to do this- here is one.\n",
    "#View our .data and .target\n",
    "dataset.target=dataset['MEDV'] \n",
    "dataset.features=dataset.drop(['MEDV'], axis=1)                         \n",
    "print(dataset.target.shape)\n",
    "print(dataset.features.shape)"
   ]
  },
  {
   "cell_type": "code",
   "execution_count": 12,
   "metadata": {
    "collapsed": false
   },
   "outputs": [
    {
     "name": "stdout",
     "output_type": "stream",
     "text": [
      "LinearRegression(copy_X=True, fit_intercept=True, n_jobs=1, normalize=True)\n",
      "Coef 36.4911032804 [ -1.07170557e-01   4.63952195e-02   2.08602395e-02   2.68856140e+00\n",
      "  -1.77957587e+01   3.80475246e+00   7.51061703e-04  -1.47575880e+00\n",
      "   3.05655038e-01  -1.23293463e-02  -9.53463555e-01   9.39251272e-03\n",
      "  -5.25466633e-01]\n",
      "MSE 21.8977792177\n"
     ]
    }
   ],
   "source": [
    "# Linear Regression-Ordinary Least Squares\n",
    "from sklearn.linear_model import LinearRegression\n",
    "\n",
    "# fit a linear regression model to the data\n",
    "model_LR = LinearRegression(normalize=True)\n",
    "model_LR.fit(dataset.features, dataset.target)\n",
    "print(model_LR)\n",
    "# make predictions\n",
    "expected_LR = dataset.target\n",
    "predicted_LR = model_LR.predict(dataset.features)\n",
    "# summarize the fit of the model\n",
    "print(\"Coef\", model_LR.intercept_, model_LR.coef_)\n",
    "print(\"MSE\", mean_squared_error(expected_LR, predicted_LR))"
   ]
  },
  {
   "cell_type": "markdown",
   "metadata": {},
   "source": [
    "Just for explanation purposes: Showing the variance of the Coefficient for LR"
   ]
  },
  {
   "cell_type": "code",
   "execution_count": 13,
   "metadata": {
    "collapsed": false
   },
   "outputs": [
    {
     "data": {
      "image/png": "[encoded data removed]",
      "text/plain": [
       "<matplotlib.figure.Figure at 0x10ed5ebe0>"
      ]
     },
     "metadata": {},
     "output_type": "display_data"
    }
   ],
   "source": [
    "fig, ax = plt.subplots()\n",
    "plt.plot(model_LR.coef_, label='LR')\n",
    "plt.axhline(linewidth=4, color='r') # for reference\n",
    "legend = ax.legend(loc='lower right', shadow=True)\n",
    "plt.show()"
   ]
  },
  {
   "cell_type": "code",
   "execution_count": 14,
   "metadata": {
    "collapsed": false
   },
   "outputs": [
    {
     "name": "stdout",
     "output_type": "stream",
     "text": [
      "Ridge(alpha=20, copy_X=True, fit_intercept=True, max_iter=None,\n",
      "   normalize=False, random_state=None, solver='auto', tol=0.001)\n",
      "Coef 28.5631635058 [-0.10060401  0.05065136 -0.04698636  1.57414364 -1.27135531  3.47559439\n",
      " -0.00941967 -1.22949444  0.28487392 -0.01444316 -0.79939841  0.01007353\n",
      " -0.57847453]\n",
      "MSE 22.8584504371\n"
     ]
    }
   ],
   "source": [
    "# Ridge Regression\n",
    "from sklearn.linear_model import Ridge\n",
    "\n",
    "# fit a ridge regression model to the data\n",
    "model_RG = Ridge(alpha=20)\n",
    "model_RG.fit(dataset.features, dataset.target)\n",
    "print(model_RG)\n",
    "# make predictions\n",
    "expected_RG = dataset.target\n",
    "predicted_RG= model_RG.predict(dataset.features)\n",
    "# summarize the fit of the model\n",
    "print(\"Coef\", model_RG.intercept_, model_RG.coef_)\n",
    "print(\"MSE\", mean_squared_error(expected_RG, predicted_RG))"
   ]
  },
  {
   "cell_type": "markdown",
   "metadata": {},
   "source": [
    "# Example of a Grid Search with CV. On Regression, grid search displays and finds the optimal metric \"R2\". On classification models it uses \"accuracy\", all based on fit (not predict). "
   ]
  },
  {
   "cell_type": "code",
   "execution_count": 15,
   "metadata": {
    "collapsed": false
   },
   "outputs": [
    {
     "name": "stdout",
     "output_type": "stream",
     "text": [
      "Grid Scores {'std_score_time': array([  2.63509921e-04,   8.24879220e-05,   6.68197747e-05,\n",
      "         2.47259199e-04,   3.84263347e-04]), 'mean_fit_time': array([ 0.01302123,  0.00595784,  0.00365057,  0.00421057,  0.00474377]), 'mean_test_score': array([ 0.3521831 ,  0.35904083,  0.37694259,  0.38751941,  0.39764632]), 'std_test_score': array([ 0.37934791,  0.37758776,  0.37133676,  0.36617908,  0.3594461 ]), 'rank_test_score': array([5, 4, 3, 2, 1], dtype=int32), 'params': ({'alpha': 0.01}, {'alpha': 0.1}, {'alpha': 0.5}, {'alpha': 1}, {'alpha': 2}), 'std_train_score': array([ 0.04934211,  0.04937324,  0.04977186,  0.05033588,  0.05118484]), 'split2_test_score': array([ 0.58732776,  0.59446504,  0.61528407,  0.62881062,  0.64112711]), 'split1_train_score': array([ 0.72761588,  0.72746346,  0.7258159 ,  0.72391339,  0.72155392]), 'param_alpha': masked_array(data = [0.01 0.1 0.5 1 2],\n",
      "             mask = [False False False False False],\n",
      "       fill_value = ?)\n",
      ", 'split2_train_score': array([ 0.69502902,  0.69489088,  0.69293404,  0.68991892,  0.68511841]), 'split3_test_score': array([ 0.0784935 ,  0.07907754,  0.08139187,  0.0843547 ,  0.09102672]), 'split0_test_score': array([ 0.63905648,  0.64270074,  0.65343564,  0.66040085,  0.66652568]), 'split3_train_score': array([ 0.8418111 ,  0.84176803,  0.84116629,  0.84025121,  0.83879829]), 'mean_train_score': array([ 0.74928761,  0.74919693,  0.7480175 ,  0.74633046,  0.74377904]), 'std_fit_time': array([ 0.00520466,  0.00127335,  0.00022208,  0.00097345,  0.00106111]), 'split0_train_score': array([ 0.74652726,  0.74645554,  0.74540377,  0.74372005,  0.7409476 ]), 'split1_test_score': array([ 0.71450033,  0.72281614,  0.73753093,  0.7408794 ,  0.74024496]), 'mean_score_time': array([ 0.00118241,  0.00076632,  0.00060377,  0.00069246,  0.00126162]), 'split4_train_score': array([ 0.7354548 ,  0.73540678,  0.73476753,  0.73384871,  0.73247696]), 'split4_test_score': array([-0.26130288, -0.24666381, -0.20566709, -0.1795503 , -0.15335502])}\n",
      "Best {'alpha': 2}\n"
     ]
    }
   ],
   "source": [
    "# use a full grid over several parameters and cross validate 5 times\n",
    "from sklearn.model_selection import GridSearchCV\n",
    "param_grid = {\"alpha\": [.01,.1, .5, 1, 2]}\n",
    "#param_grid={\"alpha\": [1,10,1]} this does a range 1 through 10 changes by a factor of 1. \n",
    "#param_grid={\"alpha\": [.01,1,.05]} this does a range 1 through 1 changes by a factor of .05\n",
    "\n",
    "# run grid search\n",
    "grid_search = GridSearchCV(model_RG, param_grid=param_grid,n_jobs=-1,cv=5)\n",
    "\n",
    "grid_search.fit(dataset.features, dataset.target)\n",
    "print(\"Grid Scores\", grid_search.cv_results_)\n",
    "print(\"Best\", grid_search.best_params_)                                   "
   ]
  },
  {
   "cell_type": "markdown",
   "metadata": {},
   "source": [
    "Just for explanation purposes: Showing the variance of the Coefficient for LR and Ridge"
   ]
  },
  {
   "cell_type": "code",
   "execution_count": 16,
   "metadata": {
    "collapsed": false
   },
   "outputs": [
    {
     "data": {
      "image/png": "[encoded data removed]",
      "text/plain": [
       "<matplotlib.figure.Figure at 0x1127a9e80>"
      ]
     },
     "metadata": {},
     "output_type": "display_data"
    }
   ],
   "source": [
    "fig, ax = plt.subplots()\n",
    "plt.plot(model_LR.coef_, label='LR')\n",
    "plt.plot(model_RG.coef_, label='Ridge')\n",
    "plt.axhline(linewidth=4, color='r') # for reference\n",
    "legend = ax.legend(loc='lower right', shadow=True)\n",
    "plt.show()"
   ]
  },
  {
   "cell_type": "code",
   "execution_count": 17,
   "metadata": {
    "collapsed": false
   },
   "outputs": [
    {
     "name": "stdout",
     "output_type": "stream",
     "text": [
      "Lasso(alpha=50, copy_X=True, fit_intercept=True, max_iter=1000,\n",
      "   normalize=False, positive=False, precompute=False, random_state=None,\n",
      "   selection='cyclic', tol=0.0001, warm_start=False)\n",
      "Coef 27.6397960946 [-0.          0.         -0.          0.         -0.          0.         -0.\n",
      "  0.          0.         -0.02137591 -0.          0.01014779 -0.        ]\n",
      "MSE 64.5141119221\n"
     ]
    }
   ],
   "source": [
    "# Lasso Regression-Least Absolute Shrinkage and Selection Operator\n",
    "from sklearn.linear_model import Lasso\n",
    "\n",
    "# fit a LASSO model to the data\n",
    "model_LAS = Lasso(alpha=50)\n",
    "model_LAS.fit(dataset.features, dataset.target)\n",
    "print(model_LAS)\n",
    "# make predictions\n",
    "expected_LAS = dataset.target\n",
    "predicted_LAS = model_LAS.predict(dataset.features)\n",
    "# summarize the fit of the model\n",
    "print(\"Coef\", model_LAS.intercept_,model_LAS.coef_)\n",
    "print(\"MSE\", mean_squared_error(expected_LAS, predicted_LAS))"
   ]
  },
  {
   "cell_type": "markdown",
   "metadata": {},
   "source": [
    "Just for explanation purposes: Showing the variance of the Coefficient for LR, Ridge and Lasso"
   ]
  },
  {
   "cell_type": "code",
   "execution_count": 18,
   "metadata": {
    "collapsed": false
   },
   "outputs": [
    {
     "data": {
      "image/png": "[encoded data removed]",
      "text/plain": [
       "<matplotlib.figure.Figure at 0x1128f45c0>"
      ]
     },
     "metadata": {},
     "output_type": "display_data"
    }
   ],
   "source": [
    "fig, ax = plt.subplots()\n",
    "plt.plot(model_LR.coef_, label='LR')\n",
    "plt.plot(model_RG.coef_, label='Ridge')\n",
    "plt.plot(model_LAS.coef_, label='Lasso')\n",
    "plt.axhline(linewidth=4, color='r') # for reference\n",
    "legend = ax.legend(loc='lower right', shadow=True)\n",
    "plt.show()"
   ]
  },
  {
   "cell_type": "code",
   "execution_count": 19,
   "metadata": {
    "collapsed": false
   },
   "outputs": [
    {
     "name": "stdout",
     "output_type": "stream",
     "text": [
      "ElasticNet(alpha=0.1, copy_X=True, fit_intercept=True, l1_ratio=0.5,\n",
      "      max_iter=1000, normalize=False, positive=False, precompute=False,\n",
      "      random_state=None, selection='cyclic', tol=0.0001, warm_start=False)\n",
      "Coef 29.3337468915 [-0.09908567  0.05134586 -0.04569294  0.98891755 -0.06096002  3.24898234\n",
      " -0.00719094 -1.18106362  0.28818293 -0.01494854 -0.79385197  0.0100416\n",
      " -0.5988627 ]\n",
      "MSE 23.1635357809\n"
     ]
    }
   ],
   "source": [
    "# ElasticNet Regression\n",
    "from sklearn.linear_model import ElasticNet\n",
    "\n",
    "# fit a model to the data\n",
    "model_EN = ElasticNet(alpha=0.1)\n",
    "model_EN.fit(dataset.features, dataset.target)\n",
    "print(model_EN)\n",
    "# make predictions\n",
    "expected_EN = dataset.target\n",
    "predicted_EN = model_EN.predict(dataset.features)\n",
    "# summarize the fit of the model\n",
    "print(\"Coef\", model_EN.intercept_, model_EN.coef_)\n",
    "print(\"MSE\", mean_squared_error(expected_EN, predicted_EN))"
   ]
  },
  {
   "cell_type": "code",
   "execution_count": 20,
   "metadata": {
    "collapsed": false
   },
   "outputs": [
    {
     "data": {
      "image/png": "[encoded data removed]",
      "text/plain": [
       "<matplotlib.figure.Figure at 0x112fa7cf8>"
      ]
     },
     "metadata": {},
     "output_type": "display_data"
    }
   ],
   "source": [
    "#Plot all the model coefficients\n",
    "fig, ax = plt.subplots()\n",
    "plt.plot(model_LR.coef_, label='LR')\n",
    "plt.plot(model_RG.coef_, label='Ridge')\n",
    "plt.plot(model_LAS.coef_, label='Lasso')\n",
    "plt.plot(model_EN.coef_, label='ElasticNet')\n",
    "plt.axhline(linewidth=4, color='r') # for reference\n",
    "legend = ax.legend(loc='lower right', shadow=True)\n",
    "plt.show()"
   ]
  },
  {
   "cell_type": "code",
   "execution_count": 21,
   "metadata": {
    "collapsed": false
   },
   "outputs": [
    {
     "name": "stdout",
     "output_type": "stream",
     "text": [
      "Lars(copy_X=True, eps=2.2204460492503131e-16, fit_intercept=True,\n",
      "   fit_path=True, n_nonzero_coefs=1, normalize=True, positive=False,\n",
      "   precompute='auto', verbose=False)\n",
      "Coef 24.317854487 [ 0.          0.          0.          0.          0.          0.          0.\n",
      "  0.          0.          0.          0.          0.         -0.14107636]\n",
      "MSE 71.7898855211\n"
     ]
    }
   ],
   "source": [
    "#LARS Regression Model- Least Angle Regression model\n",
    "from sklearn import linear_model\n",
    "model_LAR = linear_model.Lars(n_nonzero_coefs=1)\n",
    "model_LAR.fit(dataset.features, dataset.target)\n",
    "print(model_LAR)\n",
    "# make predictions\n",
    "expected_LAR = dataset.target\n",
    "predicted_LAR = model_LAR.predict(dataset.features)\n",
    "# summarize the fit of the model\n",
    "mse_LAR = np.mean((predicted_LAR-expected_LAR)**2)\n",
    "print(\"Coef\", model_LAR.intercept_, model_LAR.coef_)\n",
    "print(\"MSE\", mean_squared_error(expected_LAR, predicted_LAR))"
   ]
  },
  {
   "cell_type": "code",
   "execution_count": 22,
   "metadata": {
    "collapsed": false
   },
   "outputs": [
    {
     "data": {
      "image/png": "[encoded data removed]",
      "text/plain": [
       "<matplotlib.figure.Figure at 0x112fd18d0>"
      ]
     },
     "metadata": {},
     "output_type": "display_data"
    }
   ],
   "source": [
    "#Plot all the model coefficients\n",
    "fig, ax = plt.subplots()\n",
    "plt.plot(model_LR.coef_, label='LR')\n",
    "plt.plot(model_RG.coef_, label='Ridge')\n",
    "plt.plot(model_LAS.coef_, label='Lasso')\n",
    "plt.plot(model_EN.coef_, label='ElasticNet')\n",
    "plt.plot(model_LAR.coef_, label='LARS')\n",
    "plt.axhline(linewidth=4, color='r') # for reference\n",
    "legend = ax.legend(loc='lower right', shadow=True)\n",
    "plt.show()"
   ]
  },
  {
   "cell_type": "code",
   "execution_count": 23,
   "metadata": {
    "collapsed": false
   },
   "outputs": [
    {
     "name": "stdout",
     "output_type": "stream",
     "text": [
      "                            OLS Regression Results                            \n",
      "==============================================================================\n",
      "Dep. Variable:                Lottery   R-squared:                       0.348\n",
      "Model:                            OLS   Adj. R-squared:                  0.333\n",
      "Method:                 Least Squares   F-statistic:                     22.20\n",
      "Date:                Wed, 15 Mar 2017   Prob (F-statistic):           1.90e-08\n",
      "Time:                        20:26:41   Log-Likelihood:                -379.82\n",
      "No. Observations:                  86   AIC:                             765.6\n",
      "Df Residuals:                      83   BIC:                             773.0\n",
      "Df Model:                           2                                         \n",
      "Covariance Type:            nonrobust                                         \n",
      "===================================================================================\n",
      "                      coef    std err          t      P>|t|      [95.0% Conf. Int.]\n",
      "-----------------------------------------------------------------------------------\n",
      "Intercept         246.4341     35.233      6.995      0.000       176.358   316.510\n",
      "Literacy           -0.4889      0.128     -3.832      0.000        -0.743    -0.235\n",
      "np.log(Pop1831)   -31.3114      5.977     -5.239      0.000       -43.199   -19.424\n",
      "==============================================================================\n",
      "Omnibus:                        3.713   Durbin-Watson:                   2.019\n",
      "Prob(Omnibus):                  0.156   Jarque-Bera (JB):                3.394\n",
      "Skew:                          -0.487   Prob(JB):                        0.183\n",
      "Kurtosis:                       3.003   Cond. No.                         702.\n",
      "==============================================================================\n",
      "\n",
      "Warnings:\n",
      "[1] Standard Errors assume that the covariance matrix of the errors is correctly specified.\n"
     ]
    }
   ],
   "source": [
    "#USING the STATSMODEL instead of skLearn\n",
    "\n",
    "import numpy as np\n",
    "import pandas as pd\n",
    "import statsmodels.formula.api as smf\n",
    "\n",
    "# Load data\n",
    "url = 'http://vincentarelbundock.github.io/Rdatasets/csv/HistData/Guerry.csv'\n",
    "dat = pd.read_csv(url)\n",
    "\n",
    "\n",
    "# Fit regression model (using the natural log of one of the regressors)\n",
    "results = smf.ols('Lottery ~ Literacy + np.log(Pop1831)', data=dat).fit()\n",
    "\n",
    "# Inspect the results\n",
    "print(results.summary())"
   ]
  },
  {
   "cell_type": "code",
   "execution_count": 24,
   "metadata": {
    "collapsed": false
   },
   "outputs": [
    {
     "name": "stdout",
     "output_type": "stream",
     "text": [
      "                            OLS Regression Results                            \n",
      "==============================================================================\n",
      "Dep. Variable:         dataset.target   R-squared:                       0.741\n",
      "Model:                            OLS   Adj. R-squared:                  0.734\n",
      "Method:                 Least Squares   F-statistic:                     108.1\n",
      "Date:                Wed, 15 Mar 2017   Prob (F-statistic):          6.95e-135\n",
      "Time:                        20:26:41   Log-Likelihood:                -1498.8\n",
      "No. Observations:                 506   AIC:                             3026.\n",
      "Df Residuals:                     492   BIC:                             3085.\n",
      "Df Model:                          13                                         \n",
      "Covariance Type:            nonrobust                                         \n",
      "========================================================================================\n",
      "                           coef    std err          t      P>|t|      [95.0% Conf. Int.]\n",
      "----------------------------------------------------------------------------------------\n",
      "Intercept               36.4911      5.104      7.149      0.000        26.462    46.520\n",
      "dataset.features[0]     -0.1072      0.033     -3.276      0.001        -0.171    -0.043\n",
      "dataset.features[1]      0.0464      0.014      3.380      0.001         0.019     0.073\n",
      "dataset.features[2]      0.0209      0.061      0.339      0.735        -0.100     0.142\n",
      "dataset.features[3]      2.6886      0.862      3.120      0.002         0.996     4.381\n",
      "dataset.features[4]    -17.7958      3.821     -4.658      0.000       -25.302   -10.289\n",
      "dataset.features[5]      3.8048      0.418      9.102      0.000         2.983     4.626\n",
      "dataset.features[6]      0.0008      0.013      0.057      0.955        -0.025     0.027\n",
      "dataset.features[7]     -1.4758      0.199     -7.398      0.000        -1.868    -1.084\n",
      "dataset.features[8]      0.3057      0.066      4.608      0.000         0.175     0.436\n",
      "dataset.features[9]     -0.0123      0.004     -3.278      0.001        -0.020    -0.005\n",
      "dataset.features[10]    -0.9535      0.131     -7.287      0.000        -1.211    -0.696\n",
      "dataset.features[11]     0.0094      0.003      3.500      0.001         0.004     0.015\n",
      "dataset.features[12]    -0.5255      0.051    -10.366      0.000        -0.625    -0.426\n",
      "==============================================================================\n",
      "Omnibus:                      178.029   Durbin-Watson:                   1.078\n",
      "Prob(Omnibus):                  0.000   Jarque-Bera (JB):              782.015\n",
      "Skew:                           1.521   Prob(JB):                    1.54e-170\n",
      "Kurtosis:                       8.276   Cond. No.                     1.51e+04\n",
      "==============================================================================\n",
      "\n",
      "Warnings:\n",
      "[1] Standard Errors assume that the covariance matrix of the errors is correctly specified.\n",
      "[2] The condition number is large, 1.51e+04. This might indicate that there are\n",
      "strong multicollinearity or other numerical problems.\n"
     ]
    }
   ],
   "source": [
    "#USING the STATSMODEL instead of skLearn with the diabetes dataset\n",
    "\n",
    "# Fit regression model \n",
    "results1 = smf.ols('dataset.target~ dataset.features', data=dataset).fit()\n",
    "\n",
    "# Inspect the results\n",
    "print(results1.summary())"
   ]
  },
  {
   "cell_type": "code",
   "execution_count": 25,
   "metadata": {
    "collapsed": false
   },
   "outputs": [
    {
     "name": "stdout",
     "output_type": "stream",
     "text": [
      "Parameters:  Intercept          246.434135\n",
      "Literacy            -0.488923\n",
      "np.log(Pop1831)    -31.311392\n",
      "dtype: float64\n",
      "Standard errors:  Intercept          35.232504\n",
      "Literacy            0.127588\n",
      "np.log(Pop1831)     5.976778\n",
      "dtype: float64\n",
      "Predicted values:  [ 45.28111552  26.10731517  61.66689491  65.84571262  60.50666251\n",
      "  50.65364442  36.18545491  64.36053682  45.16226913  54.50128015\n",
      "  47.05726094  43.59906372  26.75575698  57.33509109  44.31149942\n",
      "  36.4093396   66.44356669  62.5179869   31.445032    38.37361199\n",
      "  60.4349197   44.14479871  35.96987559  47.35193753  32.05500621\n",
      "  43.73139604  43.02036876  42.80379617  41.5681693   48.01756606\n",
      "  29.0649797   41.34530592  36.80711795  65.8333425   54.95241358\n",
      "  34.66823101  30.8711604   56.14387953  62.18620796  45.34919918\n",
      "  58.41110071  42.04335068  46.75969329  57.84147286  48.13693343\n",
      "  78.42531729  42.68049242  25.57205184  33.38962699  38.36831808\n",
      "  53.49369591  24.39057162  30.17352354  49.46837681  29.66117011\n",
      "  59.94201695   8.45773319  32.60937127  33.71368948  19.4234143\n",
      "  38.28350577  33.70590127  49.83755855  72.94944268  19.11091862\n",
      "  22.27579943  34.24609352  35.17579164  34.73435572  39.96872771\n",
      "  -2.47014786  20.57096245  39.03977407  27.89226927  48.02011015\n",
      "  27.70990542  54.71575446  62.27884968  54.82031562  56.85386179\n",
      "  51.13247489  57.47413433  63.07654546  28.67752189  39.81272132\n",
      "  57.30616412]\n"
     ]
    }
   ],
   "source": [
    "#extra individually\n",
    "print('Parameters: ', results.params)\n",
    "print('Standard errors: ', results.bse)\n",
    "print('Predicted values: ', results.predict())"
   ]
  },
  {
   "cell_type": "code",
   "execution_count": null,
   "metadata": {
    "collapsed": true
   },
   "outputs": [],
   "source": []
  }
 ],
 "metadata": {
  "anaconda-cloud": {},
  "kernelspec": {
   "display_name": "Python [conda root]",
   "language": "python",
   "name": "conda-root-py"
  },
  "language_info": {
   "codemirror_mode": {
    "name": "ipython",
    "version": 3
   },
   "file_extension": ".py",
   "mimetype": "text/x-python",
   "name": "python",
   "nbconvert_exporter": "python",
   "pygments_lexer": "ipython3",
   "version": "3.5.2"
  }
 },
 "nbformat": 4,
 "nbformat_minor": 0
}
